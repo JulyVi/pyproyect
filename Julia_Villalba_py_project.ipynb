{
 "cells": [
  {
   "cell_type": "markdown",
   "id": "82450341",
   "metadata": {},
   "source": [
    "# Python Essentials - Final Project   Total points: 35 pts\n",
    "\n",
    "## Student: Julia Villalba\t\t\t\t\t\t\t\n",
    "\n",
    "### Create a program for each given scenario.\n"
   ]
  },
  {
   "cell_type": "code",
   "execution_count": 3,
   "id": "22cf2aeb",
   "metadata": {},
   "outputs": [],
   "source": [
    "import math\n",
    "from datetime import datetime, timedelta"
   ]
  },
  {
   "cell_type": "markdown",
   "id": "97b7c36a",
   "metadata": {},
   "source": [
    "### Scenario #1 --- 5 pts\n",
    "Calculate the interest of a bank deposit\\\n",
    "Step 1: Read the amount.\\\n",
    "Step 2: Read years.\\\n",
    "Step 3: Read rate.\\\n",
    "Step 4: Calculate the interest with the formula:\\\n",
    "    Interest=Amount*Years*Rate/100\\\n",
    "Step 5: Print interest."
   ]
  },
  {
   "cell_type": "markdown",
   "id": "e0309190",
   "metadata": {},
   "source": [
    "Solution"
   ]
  },
  {
   "cell_type": "code",
   "execution_count": 1,
   "id": "f3360eed",
   "metadata": {},
   "outputs": [
    {
     "name": "stdout",
     "output_type": "stream",
     "text": [
      "Please enter the amount: 100\n",
      "Please enter the number of years: 5\n",
      "Please enter the interest rate: 2\n",
      "The total interest is $10.0\n"
     ]
    }
   ],
   "source": [
    "amount = float(input(\"Please enter the amount: \")) # user is asked for his data and the input is converted to float\n",
    "years = float(input(\"Please enter the number of years: \"))\n",
    "rate = float(input(\"Please enter the interest rate: \"))\n",
    "\n",
    "total_interest = amount*years*rate/100\n",
    "\n",
    "print(f\"The total interest is ${total_interest}\")"
   ]
  },
  {
   "cell_type": "markdown",
   "id": "e9969e24",
   "metadata": {},
   "source": [
    "### Scenario #2 --- 5 pts\n",
    "Print the cost of a phone call, capturing the duration of the call, in minutes, and knowing the following:\n",
    "Any call lasting three minutes or less has a cost of \\$5. Each additional minute costs \\$3."
   ]
  },
  {
   "cell_type": "markdown",
   "id": "1416a4e1",
   "metadata": {},
   "source": [
    "Solution: For this solution we will assume that this company rounds up the call duration to the nearest minute and charge for the whole additional minute. In this case, if a person talked for an extra half-minute, it will be rounded up to the nearest minute, and the customer would be charged for one additional minute. "
   ]
  },
  {
   "cell_type": "code",
   "execution_count": 3,
   "id": "78a103cb",
   "metadata": {},
   "outputs": [
    {
     "name": "stdout",
     "output_type": "stream",
     "text": [
      "Please enter the total duration in minutes of your phone call: 4\n",
      "The cost is $8\n"
     ]
    }
   ],
   "source": [
    "duration = float(input(\"Please enter the total duration in minutes of your phone call: \"))\n",
    "\n",
    "cost = 5\n",
    "if duration > 3:\n",
    "    duration_rup = math.ceil(duration) # rounds up to the next integer\n",
    "    additional = duration_rup - 3 # substract 3 minuts form the total to calculate additional minutes\n",
    "    cost += additional*3 # adds 3 dollars per extra minute\n",
    "\n",
    "print(f\"The cost is ${cost}\")\n"
   ]
  },
  {
   "cell_type": "markdown",
   "id": "7f7274d2",
   "metadata": {},
   "source": [
    "### Scenario #3 --- 10 pts\n",
    "The price of a round-trip ticket by train is calculated taking into account the number of kilometers to be traveled, the price is $60.00 per km. This price may have a 30\\% discount if the return trip is done after 7 days of the outward journey, or if the journey exceeds 800 km. Create a flow chart to calculate how much must be paid for a train ticket, giving as data the total of km traveled and the number of days between the outward journey and the return trip."
   ]
  },
  {
   "cell_type": "markdown",
   "id": "45cb3723",
   "metadata": {},
   "source": [
    "Solution"
   ]
  },
  {
   "cell_type": "code",
   "execution_count": 4,
   "id": "ea201c14",
   "metadata": {},
   "outputs": [
    {
     "name": "stdout",
     "output_type": "stream",
     "text": [
      "Please enter the total number of kilometers you want to travel: 850\n",
      " Please enter the expected travel date (yyyy-mm-dd): 2023-07-16\n",
      "Please enter the expected return date (yyyy-mm-dd): 2023-07-26\n",
      "The number of days of the travel is 10\n",
      "You qualify for a 30% discount. The total payment is $35700.0\n"
     ]
    }
   ],
   "source": [
    "total_km = float(input(\"Please enter the total number of kilometers you want to travel: \"))\n",
    "\n",
    "ini_price = total_km * 60 #initial price without any discount\n",
    "\n",
    "# Get the expected travel date from the user\n",
    "travel_date_input = input(\" Please enter the expected travel date (yyyy-mm-dd): \")\n",
    "travel_date = datetime.strptime(travel_date_input, \"%Y-%m-%d\").date() \n",
    "\n",
    "# datetime.strptime formats and returns a string representation of date and time\n",
    "\n",
    "# Get the expected return date from the user\n",
    "return_date_input = input(\"Please enter the expected return date (yyyy-mm-dd): \")\n",
    "return_date = datetime.strptime(return_date_input, \"%Y-%m-%d\").date()\n",
    "\n",
    "# Calculate the difference in days for travel and return\n",
    "travel_diff = (return_date - travel_date).days\n",
    "print(\"The number of days of the travel is\", travel_diff)\n",
    "\n",
    "# Check if return date is beyond 7 days or the distance is more than 800 km\n",
    "if travel_diff > 7 or total_km > 800:\n",
    "    discounted_price = ini_price * 0.7  # Apply 30% discount\n",
    "    print(f\"You qualify for a 30% discount. The total payment is ${discounted_price}\")\n",
    "else:\n",
    "    print(f\"You don't qualify for discounts. The total payment is ${ini_price}\")"
   ]
  },
  {
   "cell_type": "markdown",
   "id": "7b7dffb5",
   "metadata": {},
   "source": [
    "### Scenario #4 --- 15 pts\n",
    "\n",
    "Create a program that authenticates if the user is registered in the database, you must use local variables “user01” and “password-01” in your programs in order to compare them with user input.\n",
    "The user/pass registered in database are student01 and password thisisasecret\n",
    "After 3 failed attempts there should be a “Too many failed attempts, please try again in 30 minutes” message.\n"
   ]
  },
  {
   "cell_type": "markdown",
   "id": "175e810d",
   "metadata": {},
   "source": [
    "Solution: Although we did not get the chance to see Python dictionaries, in order to show a more real-life solution, for this exercise we will use the dictionary python data structure, since it's the most common data structure for validating credentials."
   ]
  },
  {
   "cell_type": "code",
   "execution_count": 5,
   "id": "ff26674f",
   "metadata": {},
   "outputs": [
    {
     "name": "stdout",
     "output_type": "stream",
     "text": [
      "Enter your username: student033\n",
      "Enter your password: student055\n",
      "Invalid username or password\n",
      "Enter your username: studentsfds\n",
      "Enter your password: sdfsdf\n",
      "Invalid username or password\n",
      "Enter your username: sdfsdf\n",
      "Enter your password: sdfsdf\n",
      "Invalid username or password\n",
      "Too many failed attempts, please try again in 30 minutes\n"
     ]
    }
   ],
   "source": [
    "# this is a hypothetical data base of credentials\n",
    "credentials = {\n",
    "    \"student01\": \"thisisasecret\",\n",
    "    \"user2\": \"password2\",\n",
    "    \"user3\": \"password3\",\n",
    "    \"user4\": \"password4\",\n",
    "    \"user5\": \"password5\"\n",
    "}\n",
    "\n",
    "max_attempts = 3 #maximum number of attempts\n",
    "failed_attempts = 0  \n",
    "\n",
    "while failed_attempts < max_attempts:\n",
    "    username = input(\"Enter your username: \")\n",
    "    password = input(\"Enter your password: \")\n",
    "\n",
    "    if username in credentials and credentials[username] == password:\n",
    "        print(\"Authentication successful\")\n",
    "        break # this break takes us out of the loop\n",
    "    else:\n",
    "        print(\"Invalid username or password\") # if we get here, the variable failed attemps counts 1 more failed attempt\n",
    "        failed_attempts += 1  \n",
    "\n",
    "if failed_attempts == max_attempts: # we are out of the loop, the last else of the while sumed 3 failed attempts\n",
    "    print(\"Too many failed attempts, please try again in 30 minutes\")\n"
   ]
  }
 ],
 "metadata": {
  "kernelspec": {
   "display_name": "Python 3",
   "language": "python",
   "name": "python3"
  },
  "language_info": {
   "codemirror_mode": {
    "name": "ipython",
    "version": 3
   },
   "file_extension": ".py",
   "mimetype": "text/x-python",
   "name": "python",
   "nbconvert_exporter": "python",
   "pygments_lexer": "ipython3",
   "version": "3.8.8"
  }
 },
 "nbformat": 4,
 "nbformat_minor": 5
}
